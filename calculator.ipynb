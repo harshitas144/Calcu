{
  "nbformat": 4,
  "nbformat_minor": 0,
  "metadata": {
    "colab": {
      "provenance": []
    },
    "kernelspec": {
      "name": "python3",
      "display_name": "Python 3"
    },
    "language_info": {
      "name": "python"
    }
  },
  "cells": [
    {
      "cell_type": "code",
      "execution_count": 3,
      "metadata": {
        "id": "RsOTfMHrbtSG"
      },
      "outputs": [],
      "source": [
        "import math\n",
        "class Calculator:\n",
        "  def add(self, a, b):\n",
        "     return a+b\n",
        "  def subtract(self, a, b):\n",
        "    return a-b\n",
        "def squareRoot(self, a):\n",
        "   return math.sqrt(a)\n",
        "def multiply(a, b):\n",
        "   return a*b"
      ]
    }
  ]
}