{
 "cells": [
  {
   "cell_type": "code",
   "execution_count": null,
   "metadata": {},
   "outputs": [
    {
     "ename": "",
     "evalue": "",
     "output_type": "error",
     "traceback": [
      "\u001b[1;31mRunning cells with '/bin/python3' requires the ipykernel package.\n",
      "\u001b[1;31mRun the following command to install 'ipykernel' into the Python environment. \n",
      "\u001b[1;31mCommand: '/bin/python3 -m pip install ipykernel -U --user --force-reinstall'"
     ]
    }
   ],
   "source": [
    "import unittest\n",
    "from calculator import Calculator  # Import your Calculator class from the calculator.py file\n",
    "\n",
    "class CalculatorTest(unittest.TestCase):\n",
    "\n",
    "    def test_add(self):\n",
    "        calc = Calculator()\n",
    "        result = calc.add(3, 7)\n",
    "        self.assertEqual(result, 10, \"Addition is incorrect\")\n",
    "\n",
    "    def test_subtract(self):\n",
    "        calc = Calculator()\n",
    "        result = calc.subtract(15, 3)\n",
    "        self.assertEqual(result, 12, \"Subtraction is incorrect\")\n",
    "\n",
    "if __name__ == '__main__':\n",
    "    unittest.main()\n"
   ]
  }
 ],
 "metadata": {
  "kernelspec": {
   "display_name": "Python 3",
   "language": "python",
   "name": "python3"
  },
  "language_info": {
   "name": "python",
   "version": "3.10.12"
  }
 },
 "nbformat": 4,
 "nbformat_minor": 2
}
